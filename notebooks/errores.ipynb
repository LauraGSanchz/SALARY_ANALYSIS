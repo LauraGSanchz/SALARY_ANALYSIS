{
 "cells": [
  {
   "cell_type": "markdown",
   "metadata": {},
   "source": [
    "**Quise comparar la evolución de los salarios por año, pero no todos los años tenian datos para cada puesto de trabajo**"
   ]
  },
  {
   "cell_type": "code",
   "execution_count": null,
   "metadata": {},
   "outputs": [],
   "source": [
    "serie_temp = pd.DataFrame(df.groupby(['job_title', 'work_year'])['salary'].sum())\n",
    "serie_temp.sort_values(by='salary', ascending=False, inplace=True)"
   ]
  },
  {
   "cell_type": "code",
   "execution_count": null,
   "metadata": {},
   "outputs": [],
   "source": [
    "serie_temp= serie_temp[:15]\n",
    "serie_temp"
   ]
  },
  {
   "cell_type": "code",
   "execution_count": null,
   "metadata": {},
   "outputs": [],
   "source": [
    "serie_temp = serie_temp.unstack(level='work_year')\n",
    "serie_temp.columns = serie_temp.columns.droplevel()\n",
    "serie_temp"
   ]
  },
  {
   "cell_type": "code",
   "execution_count": null,
   "metadata": {},
   "outputs": [],
   "source": [
    "transposed = serie_temp.transpose()\n",
    "plt.figure(figsize=(10, 6))\n",
    "\n",
    "for col in transposed.columns:\n",
    "    plt.plot(transposed.index, transposed[col], marker='o', label=col)\n",
    "\n",
    "plt.xlabel('Años')\n",
    "plt.ylabel('Salario')\n",
    "plt.title('Salario por Año y Job Title')\n",
    "plt.legend()\n",
    "plt.xticks(transposed.index)  # Establecer los años en el eje x\n",
    "plt.grid(True)\n",
    "plt.tight_layout()\n",
    "plt.show()"
   ]
  }
 ],
 "metadata": {
  "language_info": {
   "name": "python"
  }
 },
 "nbformat": 4,
 "nbformat_minor": 2
}

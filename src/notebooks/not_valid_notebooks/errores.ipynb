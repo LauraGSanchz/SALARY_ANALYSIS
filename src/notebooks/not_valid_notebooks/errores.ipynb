{
 "cells": [
  {
   "cell_type": "markdown",
   "metadata": {},
   "source": [
    "**Hipótesis 1 :**\n",
    "\n",
    "Los salarios de los puestos de trabajos relacionados con data science son mayores que los de otros sectores con mismo nivel educativo.\n",
    "\n",
    "**Hipótesis 2 :**\n",
    "\n",
    "Dentro del sector data science ¿Son iguales los salarios entre hombres y mujeres con el mismo puesto de trabajo y nivel educativo?\n",
    "\n",
    "\n",
    "**Hipótesis 3 :**\n",
    "\n",
    "Dentro del sector Data Science ¿Existe una relación positiva entre los años de experiencia y el salario?"
   ]
  },
  {
   "cell_type": "code",
   "execution_count": 1,
   "metadata": {},
   "outputs": [
    {
     "name": "stdout",
     "output_type": "stream",
     "text": [
      "Collecting missingno\n",
      "  Downloading missingno-0.5.2-py3-none-any.whl (8.7 kB)\n",
      "Requirement already satisfied: numpy in c:\\users\\laura\\appdata\\local\\programs\\python\\python311\\lib\\site-packages (from missingno) (1.26.0)\n",
      "Requirement already satisfied: matplotlib in c:\\users\\laura\\appdata\\local\\programs\\python\\python311\\lib\\site-packages (from missingno) (3.8.0)\n",
      "Requirement already satisfied: scipy in c:\\users\\laura\\appdata\\local\\programs\\python\\python311\\lib\\site-packages (from missingno) (1.11.3)\n",
      "Requirement already satisfied: seaborn in c:\\users\\laura\\appdata\\local\\programs\\python\\python311\\lib\\site-packages (from missingno) (0.13.0)\n",
      "Requirement already satisfied: contourpy>=1.0.1 in c:\\users\\laura\\appdata\\local\\programs\\python\\python311\\lib\\site-packages (from matplotlib->missingno) (1.1.1)\n",
      "Requirement already satisfied: cycler>=0.10 in c:\\users\\laura\\appdata\\local\\programs\\python\\python311\\lib\\site-packages (from matplotlib->missingno) (0.12.1)\n",
      "Requirement already satisfied: fonttools>=4.22.0 in c:\\users\\laura\\appdata\\local\\programs\\python\\python311\\lib\\site-packages (from matplotlib->missingno) (4.43.1)\n",
      "Requirement already satisfied: kiwisolver>=1.0.1 in c:\\users\\laura\\appdata\\local\\programs\\python\\python311\\lib\\site-packages (from matplotlib->missingno) (1.4.5)\n",
      "Requirement already satisfied: packaging>=20.0 in c:\\users\\laura\\appdata\\roaming\\python\\python311\\site-packages (from matplotlib->missingno) (23.1)\n",
      "Requirement already satisfied: pillow>=6.2.0 in c:\\users\\laura\\appdata\\local\\programs\\python\\python311\\lib\\site-packages (from matplotlib->missingno) (10.0.1)\n",
      "Requirement already satisfied: pyparsing>=2.3.1 in c:\\users\\laura\\appdata\\local\\programs\\python\\python311\\lib\\site-packages (from matplotlib->missingno) (3.1.1)\n",
      "Requirement already satisfied: python-dateutil>=2.7 in c:\\users\\laura\\appdata\\roaming\\python\\python311\\site-packages (from matplotlib->missingno) (2.8.2)\n",
      "Requirement already satisfied: pandas>=1.2 in c:\\users\\laura\\appdata\\local\\programs\\python\\python311\\lib\\site-packages (from seaborn->missingno) (2.1.1)\n",
      "Requirement already satisfied: pytz>=2020.1 in c:\\users\\laura\\appdata\\local\\programs\\python\\python311\\lib\\site-packages (from pandas>=1.2->seaborn->missingno) (2023.3.post1)\n",
      "Requirement already satisfied: tzdata>=2022.1 in c:\\users\\laura\\appdata\\local\\programs\\python\\python311\\lib\\site-packages (from pandas>=1.2->seaborn->missingno) (2023.3)\n",
      "Requirement already satisfied: six>=1.5 in c:\\users\\laura\\appdata\\roaming\\python\\python311\\site-packages (from python-dateutil>=2.7->matplotlib->missingno) (1.16.0)\n",
      "Installing collected packages: missingno\n",
      "Successfully installed missingno-0.5.2\n"
     ]
    }
   ],
   "source": [
    "!pip install missingno"
   ]
  },
  {
   "cell_type": "markdown",
   "metadata": {},
   "source": [
    "**Quise comparar la evolución de los salarios por año, pero no todos los años tenian datos para cada puesto de trabajo**"
   ]
  },
  {
   "cell_type": "code",
   "execution_count": null,
   "metadata": {},
   "outputs": [],
   "source": [
    "serie_temp = pd.DataFrame(df.groupby(['job_title', 'work_year'])['salary'].sum())\n",
    "serie_temp.sort_values(by='salary', ascending=False, inplace=True)"
   ]
  },
  {
   "cell_type": "code",
   "execution_count": null,
   "metadata": {},
   "outputs": [],
   "source": [
    "serie_temp= serie_temp[:15]\n",
    "serie_temp"
   ]
  },
  {
   "cell_type": "code",
   "execution_count": null,
   "metadata": {},
   "outputs": [],
   "source": [
    "serie_temp = serie_temp.unstack(level='work_year')\n",
    "serie_temp.columns = serie_temp.columns.droplevel()\n",
    "serie_temp"
   ]
  },
  {
   "cell_type": "code",
   "execution_count": null,
   "metadata": {},
   "outputs": [],
   "source": [
    "transposed = serie_temp.transpose()\n",
    "plt.figure(figsize=(10, 6))\n",
    "\n",
    "for col in transposed.columns:\n",
    "    plt.plot(transposed.index, transposed[col], marker='o', label=col)\n",
    "\n",
    "plt.xlabel('Años')\n",
    "plt.ylabel('Salario')\n",
    "plt.title('Salario por Año y Job Title')\n",
    "plt.legend()\n",
    "plt.xticks(transposed.index)  # Establecer los años en el eje x\n",
    "plt.grid(True)\n",
    "plt.tight_layout()\n",
    "plt.show()"
   ]
  }
 ],
 "metadata": {
  "kernelspec": {
   "display_name": "Python 3",
   "language": "python",
   "name": "python3"
  },
  "language_info": {
   "codemirror_mode": {
    "name": "ipython",
    "version": 3
   },
   "file_extension": ".py",
   "mimetype": "text/x-python",
   "name": "python",
   "nbconvert_exporter": "python",
   "pygments_lexer": "ipython3",
   "version": "3.11.5"
  }
 },
 "nbformat": 4,
 "nbformat_minor": 2
}
